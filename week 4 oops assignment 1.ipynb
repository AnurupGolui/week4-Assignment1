{
 "cells": [
  {
   "cell_type": "code",
   "execution_count": null,
   "id": "47ac38f4-046e-4f01-a7a4-4cf9f680bdd8",
   "metadata": {},
   "outputs": [],
   "source": [
    "Q1. Explain Class and Object with respect to Object-Oriented Programming. Give a suitable example."
   ]
  },
  {
   "cell_type": "code",
   "execution_count": null,
   "id": "f808ad79-7733-4d9b-ac91-7dfa9758511a",
   "metadata": {},
   "outputs": [],
   "source": [
    "Class: The class is a user-defined data structure that binds the data members and methods into a single unit. \n",
    "Class is a blueprint or code template for object creation. Using a class, one can create as many objects as one want."
   ]
  },
  {
   "cell_type": "code",
   "execution_count": null,
   "id": "77499761-9cc9-491d-a913-f03dd6316969",
   "metadata": {},
   "outputs": [],
   "source": [
    "Object: An object is an instance of a class. It is a collection of attributes (variables) and methods. \n",
    "We use the object of a class to perform actions."
   ]
  },
  {
   "cell_type": "code",
   "execution_count": 4,
   "id": "dd154e23-5a41-41a2-af5b-84a5ec1cbf91",
   "metadata": {},
   "outputs": [],
   "source": [
    "#Example:\n",
    "\n",
    "class pwskill:            # Here pwskill is a class\n",
    "    \n",
    "    def __init__(self,course_name):\n",
    "        self.course_name=course_name\n",
    "        \n",
    "    def detail_of_course_name(self):\n",
    "        return self.course_name\n",
    "        "
   ]
  },
  {
   "cell_type": "code",
   "execution_count": 5,
   "id": "74f99e73-4e6e-4766-80ad-7fb924191c33",
   "metadata": {},
   "outputs": [],
   "source": [
    "pw=pwskill('data science')    # here we set an object(pw) for class(pwskill)"
   ]
  },
  {
   "cell_type": "code",
   "execution_count": 6,
   "id": "0b8fba84-b808-480a-b8af-a8af0f13112a",
   "metadata": {},
   "outputs": [
    {
     "data": {
      "text/plain": [
       "'data science'"
      ]
     },
     "execution_count": 6,
     "metadata": {},
     "output_type": "execute_result"
    }
   ],
   "source": [
    "pw.detail_of_course_name()"
   ]
  },
  {
   "cell_type": "code",
   "execution_count": null,
   "id": "5ba729fd-1a31-4f01-9c4f-b4139566ca05",
   "metadata": {},
   "outputs": [],
   "source": [
    "Q2. Name the four pillars of OOPs."
   ]
  },
  {
   "cell_type": "code",
   "execution_count": null,
   "id": "d7ff4ca7-69ac-4bd1-90e7-5528040735ed",
   "metadata": {},
   "outputs": [],
   "source": [
    "The Four pillars of OOPs are abstraction, encapsulation, inheritance, and polymorphism"
   ]
  },
  {
   "cell_type": "code",
   "execution_count": null,
   "id": "e4dc33ea-f063-4e1a-9534-8faf95dcec48",
   "metadata": {},
   "outputs": [],
   "source": [
    "Q3. Explain why the __init__() function is used. Give a suitable example."
   ]
  },
  {
   "cell_type": "code",
   "execution_count": null,
   "id": "28e74250-1e24-4d0d-a5ca-0b2537053cad",
   "metadata": {},
   "outputs": [],
   "source": [
    "The Default __init__  is used as Constructor. Constructors are used to initializing the object’s state.The task of \n",
    "constructors is to initialize(assign values) to the data members of the class when an object of the class is created. \n",
    "Like methods, a constructor also contains a collection of statements(i.e. instructions) that are executed at the time of \n",
    "Object creation. It is run as soon as an object of a class is instantiated. The method is useful to do any initialization \n",
    "one want to do with  object."
   ]
  },
  {
   "cell_type": "code",
   "execution_count": 7,
   "id": "d03f6976-c15c-4be1-bd19-156bc5954823",
   "metadata": {},
   "outputs": [],
   "source": [
    "#Example:\n",
    "\n",
    "class pwskill:            \n",
    "    \n",
    "    def __init__(self,course_name):     ## Here __init__ is used to initialize(assign values) to the data members of the class\n",
    "        self.course_name=course_name\n",
    "        \n",
    "    def detail_of_course_name(self):\n",
    "        return self.course_name"
   ]
  },
  {
   "cell_type": "code",
   "execution_count": 12,
   "id": "784b8775-cbdb-4c0f-ba49-c074bc7cbf63",
   "metadata": {},
   "outputs": [],
   "source": [
    "pw=pwskill('data science') # Here __init__ take the 'data science' input and assign it to self.course_name and create an \n",
    "                             #instance. so when we call self.course_name it will show the input"
   ]
  },
  {
   "cell_type": "code",
   "execution_count": 13,
   "id": "bd536ebb-dfa9-4319-8898-ed12e0a7c64d",
   "metadata": {},
   "outputs": [
    {
     "data": {
      "text/plain": [
       "'data science'"
      ]
     },
     "execution_count": 13,
     "metadata": {},
     "output_type": "execute_result"
    }
   ],
   "source": [
    "pw.detail_of_course_name()"
   ]
  },
  {
   "cell_type": "code",
   "execution_count": null,
   "id": "455dc0b0-b7fd-43d5-ac14-157b46261162",
   "metadata": {},
   "outputs": [],
   "source": [
    "Q4. Why self is used in OOPs?"
   ]
  },
  {
   "cell_type": "code",
   "execution_count": null,
   "id": "930ccb1a-f9d3-4862-8a92-4a361d62df61",
   "metadata": {},
   "outputs": [],
   "source": [
    "self represents the instance of the class. By using the “self”  we can access the attributes and methods of the class in python\n",
    " and it binds the attributes with the given arguments."
   ]
  },
  {
   "cell_type": "code",
   "execution_count": 14,
   "id": "aff8fbdd-4bb2-485c-b82d-2d594353ddc0",
   "metadata": {},
   "outputs": [],
   "source": [
    "#Example:\n",
    "\n",
    "class pwskill:            \n",
    "    \n",
    "    def __init__(self,course_name):     ## Here by using self we can access the attributes \n",
    "        self.course_name=course_name\n",
    "        \n",
    "    def detail_of_course_name(self):    ## Here by using the “self”  we can access the attributes and methods of the class\n",
    "        return self.course_name"
   ]
  },
  {
   "cell_type": "code",
   "execution_count": 15,
   "id": "3e126d5f-5d03-4cfe-843e-f3f0912932eb",
   "metadata": {},
   "outputs": [],
   "source": [
    "pw=pwskill('data science')"
   ]
  },
  {
   "cell_type": "code",
   "execution_count": 16,
   "id": "05a7f981-4445-4190-931b-5138521a3db2",
   "metadata": {},
   "outputs": [
    {
     "data": {
      "text/plain": [
       "'data science'"
      ]
     },
     "execution_count": 16,
     "metadata": {},
     "output_type": "execute_result"
    }
   ],
   "source": [
    "pw.detail_of_course_name()"
   ]
  },
  {
   "cell_type": "code",
   "execution_count": 17,
   "id": "c8ba5385-820b-42b7-a39a-02d5dcca4cf6",
   "metadata": {},
   "outputs": [
    {
     "data": {
      "text/plain": [
       "'data science'"
      ]
     },
     "execution_count": 17,
     "metadata": {},
     "output_type": "execute_result"
    }
   ],
   "source": [
    "pw.course_name"
   ]
  },
  {
   "cell_type": "code",
   "execution_count": null,
   "id": "3c45e4f8-8055-43d2-b820-5d758521ca7c",
   "metadata": {},
   "outputs": [],
   "source": [
    "Q5. What is inheritance? Give an example for each type of inheritance."
   ]
  },
  {
   "cell_type": "code",
   "execution_count": null,
   "id": "08eb94e1-0b9e-4d8b-8b78-df86575fa259",
   "metadata": {},
   "outputs": [],
   "source": [
    "One of the core concepts in object-oriented programming (OOP) languages is inheritance. It is a mechanism that allows one\n",
    "to create a hierarchy of classes that share a set of properties and methods by deriving a class from another class. \n",
    "Inheritance is the capability of one class to derive or inherit the properties from another class. "
   ]
  },
  {
   "cell_type": "code",
   "execution_count": 18,
   "id": "776bdea8-c0f8-49a0-92e6-899e00d69321",
   "metadata": {},
   "outputs": [],
   "source": [
    "#Single Inheritance:\n",
    "\n",
    "class parent:\n",
    "    def class_parent(self):\n",
    "        print('This is parent class')\n",
    "        \n",
    "class child(parent):\n",
    "    def class_child(self):\n",
    "        print('This is child class')\n"
   ]
  },
  {
   "cell_type": "code",
   "execution_count": 19,
   "id": "10e0c652-ee44-446f-86c7-80753ca240da",
   "metadata": {},
   "outputs": [],
   "source": [
    "joy=child()"
   ]
  },
  {
   "cell_type": "code",
   "execution_count": 20,
   "id": "3078d948-f096-4fe6-9831-7fdb0d1dcd80",
   "metadata": {},
   "outputs": [
    {
     "name": "stdout",
     "output_type": "stream",
     "text": [
      "This is parent class\n"
     ]
    }
   ],
   "source": [
    "joy.class_parent()"
   ]
  },
  {
   "cell_type": "code",
   "execution_count": 21,
   "id": "ec0fca0f-71a8-489a-ada1-1d0474e4b936",
   "metadata": {},
   "outputs": [
    {
     "name": "stdout",
     "output_type": "stream",
     "text": [
      "This is child class\n"
     ]
    }
   ],
   "source": [
    "joy.class_child()"
   ]
  },
  {
   "cell_type": "code",
   "execution_count": 22,
   "id": "6b0a299e-fa97-4847-884c-dd42d01aa4f6",
   "metadata": {},
   "outputs": [],
   "source": [
    "##  Multiple Inheritance: \n",
    "\n",
    "class parent1:\n",
    "    def father(self):\n",
    "        print('This is from class parent 1')\n",
    "        \n",
    "        \n",
    "class parent2:\n",
    "    def mother(self):\n",
    "        print('This is from class parent 2')\n",
    "        \n",
    "        \n",
    "class child(parent1,parent2):\n",
    "    def class_child(self):\n",
    "        print('This ius from class child')\n",
    "\n"
   ]
  },
  {
   "cell_type": "code",
   "execution_count": 23,
   "id": "696f75f0-3f92-4e7a-a933-947350f83816",
   "metadata": {},
   "outputs": [],
   "source": [
    "joy=child()"
   ]
  },
  {
   "cell_type": "code",
   "execution_count": 24,
   "id": "5625d688-7dc4-4100-a2a5-edc2b7262d0b",
   "metadata": {},
   "outputs": [
    {
     "name": "stdout",
     "output_type": "stream",
     "text": [
      "This is from class parent 1\n"
     ]
    }
   ],
   "source": [
    "joy.father()"
   ]
  },
  {
   "cell_type": "code",
   "execution_count": 25,
   "id": "39375430-ee12-40c5-b498-ed5dede871e3",
   "metadata": {},
   "outputs": [
    {
     "name": "stdout",
     "output_type": "stream",
     "text": [
      "This is from class parent 2\n"
     ]
    }
   ],
   "source": [
    "joy.mother()"
   ]
  },
  {
   "cell_type": "code",
   "execution_count": 26,
   "id": "7039484d-2909-4b4a-9627-24cc88a3bf8a",
   "metadata": {},
   "outputs": [
    {
     "name": "stdout",
     "output_type": "stream",
     "text": [
      "This ius from class child\n"
     ]
    }
   ],
   "source": [
    "joy.class_child()"
   ]
  },
  {
   "cell_type": "code",
   "execution_count": 43,
   "id": "8cf5a92d-f711-4bd3-bda5-2068b9600f1d",
   "metadata": {},
   "outputs": [],
   "source": [
    "##    Multilevel Inheritance :\n",
    "\n",
    "\n",
    "class grand_father:\n",
    "    def __init__(self,name_of_grand_father):\n",
    "        self.name_of_grand_father=name_of_grand_father\n",
    "        \n",
    "    def grand_father_name(self):\n",
    "        return self.name_of_grand_father\n",
    "    \n",
    "    \n",
    "class father(grand_father):\n",
    "    def __init__(self,name_of_father,name_of_grand_father):\n",
    "        self.name_of_father=name_of_father\n",
    "        grand_father.__init__(self,name_of_grand_father)\n",
    "        \n",
    "        \n",
    "    def father_name(self):\n",
    "        return self.name_of_father\n",
    "    \n",
    "    \n",
    "class child(father):\n",
    "    def __init__(self,name_of_child,name_of_father,name_of_grand_father):\n",
    "        self.name_of_child=name_of_child\n",
    "        father.__init__(self,name_of_father,name_of_grand_father)\n",
    "    def child_name(self):\n",
    "        return self.name_of_child\n",
    "    "
   ]
  },
  {
   "cell_type": "code",
   "execution_count": 44,
   "id": "bcd62727-33c1-4053-a298-7ee039f59605",
   "metadata": {},
   "outputs": [],
   "source": [
    "joy=child('Anurup Golui','Ashis Kumar Golui','Anil Kumar Golui')"
   ]
  },
  {
   "cell_type": "code",
   "execution_count": 45,
   "id": "e7ffa166-c94e-4e4a-9ed8-be53e7736008",
   "metadata": {},
   "outputs": [
    {
     "data": {
      "text/plain": [
       "'Anurup Golui'"
      ]
     },
     "execution_count": 45,
     "metadata": {},
     "output_type": "execute_result"
    }
   ],
   "source": [
    "joy.child_name()"
   ]
  },
  {
   "cell_type": "code",
   "execution_count": 46,
   "id": "d8f4c224-e4d2-4b55-8a26-85bfb141b2fc",
   "metadata": {},
   "outputs": [
    {
     "data": {
      "text/plain": [
       "'Ashis Kumar Golui'"
      ]
     },
     "execution_count": 46,
     "metadata": {},
     "output_type": "execute_result"
    }
   ],
   "source": [
    "joy.father_name()"
   ]
  },
  {
   "cell_type": "code",
   "execution_count": 47,
   "id": "49f10734-3548-4602-b3b8-e473061e3481",
   "metadata": {},
   "outputs": [
    {
     "data": {
      "text/plain": [
       "'Anil Kumar Golui'"
      ]
     },
     "execution_count": 47,
     "metadata": {},
     "output_type": "execute_result"
    }
   ],
   "source": [
    "joy.grand_father_name()"
   ]
  },
  {
   "cell_type": "code",
   "execution_count": 1,
   "id": "17ccafae-5372-496f-8670-0b3d0928dfd3",
   "metadata": {},
   "outputs": [],
   "source": [
    "##  Hierarchical Inheritance:\n",
    "\n",
    "class parent:\n",
    "    def parent_class(self):\n",
    "        print('This is from parent class')\n",
    "        \n",
    "class child1(parent):\n",
    "    def child1_class(self):\n",
    "        print('This is from child1 class')\n",
    "        \n",
    "        \n",
    "class child2(parent):\n",
    "    def child2_class(self):\n",
    "        print('This is from child2 class')"
   ]
  },
  {
   "cell_type": "code",
   "execution_count": 4,
   "id": "c87038bd-78e6-47f1-957f-175a03b24966",
   "metadata": {},
   "outputs": [],
   "source": [
    "ram=child1()"
   ]
  },
  {
   "cell_type": "code",
   "execution_count": 5,
   "id": "dd599068-27f4-45fc-b16c-15e4a141d994",
   "metadata": {},
   "outputs": [],
   "source": [
    "sam=child2()"
   ]
  },
  {
   "cell_type": "code",
   "execution_count": 6,
   "id": "593e042d-116f-4566-a579-41bde95e4ce5",
   "metadata": {},
   "outputs": [
    {
     "name": "stdout",
     "output_type": "stream",
     "text": [
      "This is from parent class\n"
     ]
    }
   ],
   "source": [
    "ram.parent_class()"
   ]
  },
  {
   "cell_type": "code",
   "execution_count": 7,
   "id": "cef1da7b-0c0e-44b1-a468-711bb1c1224d",
   "metadata": {},
   "outputs": [
    {
     "name": "stdout",
     "output_type": "stream",
     "text": [
      "This is from child1 class\n"
     ]
    }
   ],
   "source": [
    "ram.child1_class()"
   ]
  },
  {
   "cell_type": "code",
   "execution_count": 8,
   "id": "24a633df-c2c7-4613-89b0-4f73196973ef",
   "metadata": {},
   "outputs": [
    {
     "name": "stdout",
     "output_type": "stream",
     "text": [
      "This is from parent class\n"
     ]
    }
   ],
   "source": [
    "sam.parent_class()"
   ]
  },
  {
   "cell_type": "code",
   "execution_count": 9,
   "id": "a274810f-8cd1-440a-a405-76ba5902f9c7",
   "metadata": {},
   "outputs": [
    {
     "name": "stdout",
     "output_type": "stream",
     "text": [
      "This is from child2 class\n"
     ]
    }
   ],
   "source": [
    "sam.child2_class()"
   ]
  },
  {
   "cell_type": "code",
   "execution_count": null,
   "id": "64174378-a159-4819-93bb-ed42b9fae586",
   "metadata": {},
   "outputs": [],
   "source": []
  }
 ],
 "metadata": {
  "kernelspec": {
   "display_name": "Python 3 (ipykernel)",
   "language": "python",
   "name": "python3"
  },
  "language_info": {
   "codemirror_mode": {
    "name": "ipython",
    "version": 3
   },
   "file_extension": ".py",
   "mimetype": "text/x-python",
   "name": "python",
   "nbconvert_exporter": "python",
   "pygments_lexer": "ipython3",
   "version": "3.10.8"
  }
 },
 "nbformat": 4,
 "nbformat_minor": 5
}
